{
 "cells": [
  {
   "cell_type": "markdown",
   "id": "9c44c71c",
   "metadata": {},
   "source": [
    "## Generalizing Ability Of The Model, Holdout Cross-Validation, And K-fold Cross-Validation"
   ]
  },
  {
   "cell_type": "code",
   "execution_count": 3,
   "id": "bfd7bbaa",
   "metadata": {},
   "outputs": [],
   "source": [
    "import pandas as pd\n",
    "import numpy as np\n",
    "\n",
    "from sklearn.linear_model import LinearRegression\n",
    "from sklearn.model_selection import KFold, cross_validate\n",
    "from sklearn.model_selection import train_test_split\n",
    "from sklearn.metrics import mean_squared_error"
   ]
  },
  {
   "cell_type": "markdown",
   "id": "ab9bceb1",
   "metadata": {},
   "source": [
    "### There is a dataframe initial_data.csv with a information about taxi rides"
   ]
  },
  {
   "cell_type": "code",
   "execution_count": 4,
   "id": "f2733862",
   "metadata": {},
   "outputs": [],
   "source": [
    "df = pd.read_csv('initial_data.csv', index_col='id')"
   ]
  },
  {
   "cell_type": "code",
   "execution_count": 5,
   "id": "5324d6be",
   "metadata": {},
   "outputs": [],
   "source": [
    "df = df[['vendor_id', 'passenger_count', 'pickup_longitude',\n",
    "         'pickup_latitude', 'dropoff_longitude', 'dropoff_latitude',\n",
    "         'trip_duration']]"
   ]
  },
  {
   "cell_type": "code",
   "execution_count": 6,
   "id": "cfea9fdf",
   "metadata": {},
   "outputs": [
    {
     "data": {
      "text/html": [
       "<div>\n",
       "<style scoped>\n",
       "    .dataframe tbody tr th:only-of-type {\n",
       "        vertical-align: middle;\n",
       "    }\n",
       "\n",
       "    .dataframe tbody tr th {\n",
       "        vertical-align: top;\n",
       "    }\n",
       "\n",
       "    .dataframe thead th {\n",
       "        text-align: right;\n",
       "    }\n",
       "</style>\n",
       "<table border=\"1\" class=\"dataframe\">\n",
       "  <thead>\n",
       "    <tr style=\"text-align: right;\">\n",
       "      <th></th>\n",
       "      <th>vendor_id</th>\n",
       "      <th>passenger_count</th>\n",
       "      <th>pickup_longitude</th>\n",
       "      <th>pickup_latitude</th>\n",
       "      <th>dropoff_longitude</th>\n",
       "      <th>dropoff_latitude</th>\n",
       "      <th>trip_duration</th>\n",
       "    </tr>\n",
       "    <tr>\n",
       "      <th>id</th>\n",
       "      <th></th>\n",
       "      <th></th>\n",
       "      <th></th>\n",
       "      <th></th>\n",
       "      <th></th>\n",
       "      <th></th>\n",
       "      <th></th>\n",
       "    </tr>\n",
       "  </thead>\n",
       "  <tbody>\n",
       "    <tr>\n",
       "      <th>id2875421</th>\n",
       "      <td>2</td>\n",
       "      <td>1</td>\n",
       "      <td>-73.982155</td>\n",
       "      <td>40.767937</td>\n",
       "      <td>-73.964630</td>\n",
       "      <td>40.765602</td>\n",
       "      <td>455.0</td>\n",
       "    </tr>\n",
       "    <tr>\n",
       "      <th>id2377394</th>\n",
       "      <td>1</td>\n",
       "      <td>1</td>\n",
       "      <td>-73.980415</td>\n",
       "      <td>40.738564</td>\n",
       "      <td>-73.999481</td>\n",
       "      <td>40.731152</td>\n",
       "      <td>663.0</td>\n",
       "    </tr>\n",
       "    <tr>\n",
       "      <th>id3858529</th>\n",
       "      <td>2</td>\n",
       "      <td>1</td>\n",
       "      <td>-73.979027</td>\n",
       "      <td>40.763939</td>\n",
       "      <td>-74.005333</td>\n",
       "      <td>40.710087</td>\n",
       "      <td>2124.0</td>\n",
       "    </tr>\n",
       "    <tr>\n",
       "      <th>id3504673</th>\n",
       "      <td>2</td>\n",
       "      <td>1</td>\n",
       "      <td>-74.010040</td>\n",
       "      <td>40.719971</td>\n",
       "      <td>-74.012268</td>\n",
       "      <td>40.706718</td>\n",
       "      <td>429.0</td>\n",
       "    </tr>\n",
       "    <tr>\n",
       "      <th>id2181028</th>\n",
       "      <td>2</td>\n",
       "      <td>1</td>\n",
       "      <td>-73.973053</td>\n",
       "      <td>40.793209</td>\n",
       "      <td>-73.972923</td>\n",
       "      <td>40.782520</td>\n",
       "      <td>435.0</td>\n",
       "    </tr>\n",
       "    <tr>\n",
       "      <th>...</th>\n",
       "      <td>...</td>\n",
       "      <td>...</td>\n",
       "      <td>...</td>\n",
       "      <td>...</td>\n",
       "      <td>...</td>\n",
       "      <td>...</td>\n",
       "      <td>...</td>\n",
       "    </tr>\n",
       "    <tr>\n",
       "      <th>id2376096</th>\n",
       "      <td>2</td>\n",
       "      <td>4</td>\n",
       "      <td>-73.982201</td>\n",
       "      <td>40.745522</td>\n",
       "      <td>-73.994911</td>\n",
       "      <td>40.740170</td>\n",
       "      <td>778.0</td>\n",
       "    </tr>\n",
       "    <tr>\n",
       "      <th>id1049543</th>\n",
       "      <td>1</td>\n",
       "      <td>1</td>\n",
       "      <td>-74.000946</td>\n",
       "      <td>40.747379</td>\n",
       "      <td>-73.970184</td>\n",
       "      <td>40.796547</td>\n",
       "      <td>655.0</td>\n",
       "    </tr>\n",
       "    <tr>\n",
       "      <th>id2304944</th>\n",
       "      <td>2</td>\n",
       "      <td>1</td>\n",
       "      <td>-73.959129</td>\n",
       "      <td>40.768799</td>\n",
       "      <td>-74.004433</td>\n",
       "      <td>40.707371</td>\n",
       "      <td>764.0</td>\n",
       "    </tr>\n",
       "    <tr>\n",
       "      <th>id2714485</th>\n",
       "      <td>1</td>\n",
       "      <td>1</td>\n",
       "      <td>-73.982079</td>\n",
       "      <td>40.749062</td>\n",
       "      <td>-73.974632</td>\n",
       "      <td>40.757107</td>\n",
       "      <td>373.0</td>\n",
       "    </tr>\n",
       "    <tr>\n",
       "      <th>id1209952</th>\n",
       "      <td>1</td>\n",
       "      <td>1</td>\n",
       "      <td>-73.979538</td>\n",
       "      <td>40.781750</td>\n",
       "      <td>-73.972809</td>\n",
       "      <td>40.790585</td>\n",
       "      <td>198.0</td>\n",
       "    </tr>\n",
       "  </tbody>\n",
       "</table>\n",
       "<p>1458644 rows × 7 columns</p>\n",
       "</div>"
      ],
      "text/plain": [
       "           vendor_id  passenger_count  pickup_longitude  pickup_latitude  \\\n",
       "id                                                                         \n",
       "id2875421          2                1        -73.982155        40.767937   \n",
       "id2377394          1                1        -73.980415        40.738564   \n",
       "id3858529          2                1        -73.979027        40.763939   \n",
       "id3504673          2                1        -74.010040        40.719971   \n",
       "id2181028          2                1        -73.973053        40.793209   \n",
       "...              ...              ...               ...              ...   \n",
       "id2376096          2                4        -73.982201        40.745522   \n",
       "id1049543          1                1        -74.000946        40.747379   \n",
       "id2304944          2                1        -73.959129        40.768799   \n",
       "id2714485          1                1        -73.982079        40.749062   \n",
       "id1209952          1                1        -73.979538        40.781750   \n",
       "\n",
       "           dropoff_longitude  dropoff_latitude  trip_duration  \n",
       "id                                                             \n",
       "id2875421         -73.964630         40.765602          455.0  \n",
       "id2377394         -73.999481         40.731152          663.0  \n",
       "id3858529         -74.005333         40.710087         2124.0  \n",
       "id3504673         -74.012268         40.706718          429.0  \n",
       "id2181028         -73.972923         40.782520          435.0  \n",
       "...                      ...               ...            ...  \n",
       "id2376096         -73.994911         40.740170          778.0  \n",
       "id1049543         -73.970184         40.796547          655.0  \n",
       "id2304944         -74.004433         40.707371          764.0  \n",
       "id2714485         -73.974632         40.757107          373.0  \n",
       "id1209952         -73.972809         40.790585          198.0  \n",
       "\n",
       "[1458644 rows x 7 columns]"
      ]
     },
     "execution_count": 6,
     "metadata": {},
     "output_type": "execute_result"
    }
   ],
   "source": [
    "df"
   ]
  },
  {
   "cell_type": "markdown",
   "id": "f4208e4c",
   "metadata": {},
   "source": [
    "### First, let's calculate the error on Cross-Validation and Test for our most basic model before extracting any features, but simply by taking all real columns."
   ]
  },
  {
   "cell_type": "code",
   "execution_count": 7,
   "id": "b1f6bdbb",
   "metadata": {},
   "outputs": [],
   "source": [
    "df = df.assign(log_trip_duration=np.log1p(df['trip_duration']))\n",
    "df = df.drop('trip_duration', axis=1)"
   ]
  },
  {
   "cell_type": "code",
   "execution_count": 8,
   "id": "c8f35aeb",
   "metadata": {},
   "outputs": [],
   "source": [
    "## Create samples\n",
    "X = df.drop(\"log_trip_duration\", axis=1)\n",
    "\n",
    "## Create target\n",
    "Y = df[\"log_trip_duration\"]\n",
    "\n",
    "## Let's use Holdout Method with 20 percent of a test size \n",
    "X_train, X_test, Y_train, Y_test = train_test_split(X, Y,\n",
    "                                                    test_size=0.2,\n",
    "                                                    random_state=42)"
   ]
  },
  {
   "cell_type": "code",
   "execution_count": 9,
   "id": "a7a5ac46",
   "metadata": {},
   "outputs": [
    {
     "data": {
      "text/plain": [
       "((1166915, 6), (291729, 6), (1166915,), (291729,))"
      ]
     },
     "execution_count": 9,
     "metadata": {},
     "output_type": "execute_result"
    }
   ],
   "source": [
    "X_train.shape, X_test.shape, Y_train.shape, Y_test.shape"
   ]
  },
  {
   "cell_type": "code",
   "execution_count": 10,
   "id": "6a08af18",
   "metadata": {},
   "outputs": [],
   "source": [
    "kf = KFold(n_splits=20, shuffle=True, random_state=33)"
   ]
  },
  {
   "cell_type": "code",
   "execution_count": 13,
   "id": "455551e2",
   "metadata": {},
   "outputs": [
    {
     "name": "stdout",
     "output_type": "stream",
     "text": [
      "Mean Squared Logarithmic Error = 0.613\n"
     ]
    }
   ],
   "source": [
    "## Let's verify the result using a cross-validation implementation loop.\n",
    "losses_val = []\n",
    "losses_train = []\n",
    "\n",
    "for train_index, val_index in kf.split(X_train):\n",
    "    X_train_fold, X_val_fold = X_train.values[train_index], X_train.values[val_index]\n",
    "    Y_train_fold, Y_val_fold = Y_train.values[train_index], Y_train.values[val_index]\n",
    "\n",
    "    model = LinearRegression()\n",
    "    model.fit(X_train_fold, Y_train_fold)\n",
    "\n",
    "    losses_val.append(np.mean((model.predict(X_val_fold) - Y_val_fold) ** 2))\n",
    "    losses_train.append(np.mean((model.predict(X_train_fold) - Y_train_fold) ** 2))\n",
    "\n",
    "msle = round(np.mean(losses_val), 3)\n",
    "\n",
    "print(f'Mean Squared Logarithmic Error = {msle}')"
   ]
  },
  {
   "cell_type": "code",
   "execution_count": 14,
   "id": "c63d865e",
   "metadata": {},
   "outputs": [
    {
     "name": "stdout",
     "output_type": "stream",
     "text": [
      "0.614\n"
     ]
    }
   ],
   "source": [
    "# Let's verify the response using the classical cross_validate method\n",
    "\n",
    "model = LinearRegression()\n",
    "\n",
    "scoring = {'mse': 'neg_mean_squared_error'}\n",
    "\n",
    "cv_results = cross_validate(model, X_train, Y_train, cv=20, scoring=scoring)\n",
    "\n",
    "losses_val = -cv_results['test_mse']\n",
    "mean_loss_val = np.mean(losses_val)\n",
    "mean_loss_val = round(mean_loss_val, 3)\n",
    "print(mean_loss_val)"
   ]
  },
  {
   "cell_type": "code",
   "execution_count": 17,
   "id": "cf367078",
   "metadata": {},
   "outputs": [
    {
     "name": "stdout",
     "output_type": "stream",
     "text": [
      "Mean Squared Error = 0.606\n"
     ]
    }
   ],
   "source": [
    "## Let's train a model using the entire training data and make predictions on the test set\n",
    "\n",
    "model = LinearRegression()\n",
    "model.fit(X_train, Y_train)\n",
    "\n",
    "Y_hat = model.predict(X_test)\n",
    "losses_all = []\n",
    "\n",
    "for i in range(len(Y_test)):\n",
    "    loss = (Y_hat[i] - Y_test[i]) ** 2\n",
    "    losses_all.append(loss)\n",
    "    \n",
    "print(f'Mean Squared Error = {round(np.mean(losses_all), 3)}')"
   ]
  },
  {
   "cell_type": "code",
   "execution_count": 18,
   "id": "5a672efa",
   "metadata": {},
   "outputs": [
    {
     "name": "stdout",
     "output_type": "stream",
     "text": [
      "Mean Squared Error = 0.606\n"
     ]
    }
   ],
   "source": [
    "# Let's evaluate the accuracy of the answer by calculating the mean squared error\n",
    "\n",
    "mse = mean_squared_error(Y_test, Y_hat)\n",
    "\n",
    "print(f'Mean Squared Error = {round(mse, 3)}')"
   ]
  },
  {
   "cell_type": "markdown",
   "id": "50a88f19",
   "metadata": {},
   "source": [
    "### Next, we will utilize the processed_data.csv dataframe, which contains preprocessed samples for machine learning, and compare it with our initial_data."
   ]
  },
  {
   "cell_type": "code",
   "execution_count": 19,
   "id": "b58afbda",
   "metadata": {},
   "outputs": [],
   "source": [
    "processed_data = pd.read_csv('processed_data.csv', index_col='id')"
   ]
  },
  {
   "cell_type": "code",
   "execution_count": 20,
   "id": "ff8e8246",
   "metadata": {},
   "outputs": [
    {
     "data": {
      "text/html": [
       "<div>\n",
       "<style scoped>\n",
       "    .dataframe tbody tr th:only-of-type {\n",
       "        vertical-align: middle;\n",
       "    }\n",
       "\n",
       "    .dataframe tbody tr th {\n",
       "        vertical-align: top;\n",
       "    }\n",
       "\n",
       "    .dataframe thead th {\n",
       "        text-align: right;\n",
       "    }\n",
       "</style>\n",
       "<table border=\"1\" class=\"dataframe\">\n",
       "  <thead>\n",
       "    <tr style=\"text-align: right;\">\n",
       "      <th></th>\n",
       "      <th>vendor_id</th>\n",
       "      <th>passenger_count</th>\n",
       "      <th>store_and_fwd_flag</th>\n",
       "      <th>trip_duration</th>\n",
       "      <th>distance_km</th>\n",
       "    </tr>\n",
       "    <tr>\n",
       "      <th>id</th>\n",
       "      <th></th>\n",
       "      <th></th>\n",
       "      <th></th>\n",
       "      <th></th>\n",
       "      <th></th>\n",
       "    </tr>\n",
       "  </thead>\n",
       "  <tbody>\n",
       "    <tr>\n",
       "      <th>id2875421</th>\n",
       "      <td>1</td>\n",
       "      <td>930.399753</td>\n",
       "      <td>0</td>\n",
       "      <td>455.0</td>\n",
       "      <td>1.500479</td>\n",
       "    </tr>\n",
       "    <tr>\n",
       "      <th>id2377394</th>\n",
       "      <td>0</td>\n",
       "      <td>930.399753</td>\n",
       "      <td>0</td>\n",
       "      <td>663.0</td>\n",
       "      <td>1.807119</td>\n",
       "    </tr>\n",
       "    <tr>\n",
       "      <th>id3858529</th>\n",
       "      <td>1</td>\n",
       "      <td>930.399753</td>\n",
       "      <td>0</td>\n",
       "      <td>2124.0</td>\n",
       "      <td>6.392080</td>\n",
       "    </tr>\n",
       "    <tr>\n",
       "      <th>id3504673</th>\n",
       "      <td>1</td>\n",
       "      <td>930.399753</td>\n",
       "      <td>0</td>\n",
       "      <td>429.0</td>\n",
       "      <td>1.487155</td>\n",
       "    </tr>\n",
       "    <tr>\n",
       "      <th>id2181028</th>\n",
       "      <td>1</td>\n",
       "      <td>930.399753</td>\n",
       "      <td>0</td>\n",
       "      <td>435.0</td>\n",
       "      <td>1.189925</td>\n",
       "    </tr>\n",
       "  </tbody>\n",
       "</table>\n",
       "</div>"
      ],
      "text/plain": [
       "           vendor_id  passenger_count  store_and_fwd_flag  trip_duration  \\\n",
       "id                                                                         \n",
       "id2875421          1       930.399753                   0          455.0   \n",
       "id2377394          0       930.399753                   0          663.0   \n",
       "id3858529          1       930.399753                   0         2124.0   \n",
       "id3504673          1       930.399753                   0          429.0   \n",
       "id2181028          1       930.399753                   0          435.0   \n",
       "\n",
       "           distance_km  \n",
       "id                      \n",
       "id2875421     1.500479  \n",
       "id2377394     1.807119  \n",
       "id3858529     6.392080  \n",
       "id3504673     1.487155  \n",
       "id2181028     1.189925  "
      ]
     },
     "execution_count": 20,
     "metadata": {},
     "output_type": "execute_result"
    }
   ],
   "source": [
    "processed_data.head()"
   ]
  },
  {
   "cell_type": "code",
   "execution_count": 21,
   "id": "244ac2fb",
   "metadata": {},
   "outputs": [],
   "source": [
    "processed_data = processed_data.assign(log_trip_duration=np.log1p(processed_data['trip_duration']))\n",
    "processed_data = processed_data.drop('trip_duration', axis=1)"
   ]
  },
  {
   "cell_type": "code",
   "execution_count": 22,
   "id": "fe31b55d",
   "metadata": {},
   "outputs": [],
   "source": [
    "X_2 = processed_data.drop('log_trip_duration', axis=1)\n",
    "Y_2 = processed_data['log_trip_duration']"
   ]
  },
  {
   "cell_type": "code",
   "execution_count": 23,
   "id": "89c29013",
   "metadata": {},
   "outputs": [],
   "source": [
    "X_train, X_test, Y_train, Y_test = train_test_split(X_2, Y_2,\n",
    "                                                   test_size=0.2,\n",
    "                                                   random_state=42)"
   ]
  },
  {
   "cell_type": "code",
   "execution_count": 25,
   "id": "04c55160",
   "metadata": {},
   "outputs": [],
   "source": [
    "kf = KFold(n_splits=20, shuffle=True, random_state=33)\n",
    "\n",
    "losses_val = []\n",
    "losses_train = []\n",
    "\n",
    "for train_index, val_index in kf.split(X_train):\n",
    "    X_train_fold, X_val_fold = X_train.values[train_index], X_train.values[val_index]\n",
    "    Y_train_fold, Y_val_fold = Y_train.values[train_index], Y_train.values[val_index]\n",
    "\n",
    "    model = LinearRegression()\n",
    "    model.fit(X_train_fold, Y_train_fold)\n",
    "\n",
    "    losses_val.append(np.mean((model.predict(X_val_fold) - Y_val_fold) ** 2))\n",
    "    losses_train.append(np.mean((model.predict(X_train_fold) - Y_train_fold) ** 2))\n",
    "    \n",
    "msle = round(np.mean(losses_val), 3)"
   ]
  },
  {
   "cell_type": "code",
   "execution_count": 26,
   "id": "d0eb32c9",
   "metadata": {},
   "outputs": [
    {
     "name": "stdout",
     "output_type": "stream",
     "text": [
      "Mean Squared Logarithmic Error = 0.431\n"
     ]
    }
   ],
   "source": [
    "print(f'Mean Squared Logarithmic Error = {msle}')"
   ]
  },
  {
   "cell_type": "code",
   "execution_count": 27,
   "id": "99f234f8",
   "metadata": {},
   "outputs": [
    {
     "name": "stdout",
     "output_type": "stream",
     "text": [
      "0.432\n"
     ]
    }
   ],
   "source": [
    "# Checking the answer with cross_validate method\n",
    "\n",
    "model = LinearRegression()\n",
    "\n",
    "scoring = {'mse': 'neg_mean_squared_error'}\n",
    "\n",
    "\n",
    "# cross_validate_result\n",
    "cross_validate_result = cross_validate(model, X_train, Y_train, cv=20, scoring=scoring)\n",
    "\n",
    "losses_val = -cross_validate_result['test_mse']\n",
    "mean_loss_val = np.mean(losses_val)\n",
    "mean_loss_val = round(mean_loss_val, 3)\n",
    "print(mean_loss_val)"
   ]
  },
  {
   "cell_type": "code",
   "execution_count": 28,
   "id": "b3495dc7",
   "metadata": {},
   "outputs": [
    {
     "name": "stdout",
     "output_type": "stream",
     "text": [
      "0.407\n"
     ]
    }
   ],
   "source": [
    "## Let's train a model using the entire training data and make predictions on the test set\n",
    "\n",
    "model = LinearRegression()\n",
    "\n",
    "model.fit(X_train, Y_train)\n",
    "\n",
    "Y_hat = model.predict(X_test)\n",
    "losses_all = []\n",
    "\n",
    "for i in range(len(Y_test)):\n",
    "    loss = (Y_hat[i] - Y_test[i]) ** 2\n",
    "    losses_all.append(loss)\n",
    "print(round(np.mean(losses_all), 3))"
   ]
  },
  {
   "cell_type": "markdown",
   "id": "bc69cf38",
   "metadata": {},
   "source": [
    "----"
   ]
  }
 ],
 "metadata": {
  "kernelspec": {
   "display_name": "Python 3 (ipykernel)",
   "language": "python",
   "name": "python3"
  },
  "language_info": {
   "codemirror_mode": {
    "name": "ipython",
    "version": 3
   },
   "file_extension": ".py",
   "mimetype": "text/x-python",
   "name": "python",
   "nbconvert_exporter": "python",
   "pygments_lexer": "ipython3",
   "version": "3.10.9"
  }
 },
 "nbformat": 4,
 "nbformat_minor": 5
}
